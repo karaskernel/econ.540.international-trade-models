{
 "cells": [
  {
   "cell_type": "code",
   "execution_count": null,
   "metadata": {},
   "outputs": [],
   "source": [
    "# heckscher ohlin model. Derive autarky prices, wage, and rental. Also plot the Lerner Diagram. "
   ]
  },
  {
   "cell_type": "code",
   "execution_count": 1,
   "metadata": {},
   "outputs": [
    {
     "name": "stderr",
     "output_type": "stream",
     "text": [
      "/home/jkarasev/.local/lib/python3.10/site-packages/numpy/_core/getlimits.py:548: UserWarning: Signature b'\\x00\\xd0\\xcc\\xcc\\xcc\\xcc\\xcc\\xcc\\xfb\\xbf\\x00\\x00\\x00\\x00\\x00\\x00' for <class 'numpy.longdouble'> does not match any known type: falling back to type probe function.\n",
      "This warnings indicates broken support for the dtype!\n",
      "  machar = _get_machar(dtype)\n"
     ]
    }
   ],
   "source": [
    "import sympy\n",
    "import numpy as np\n",
    "import matplotlib.pyplot as plt\n",
    "from sympy import symbols, Eq, solve, diff\n",
    "import plotly.graph_objects as go\n",
    "import plotly.express as px\n",
    "from ipywidgets import interact"
   ]
  },
  {
   "cell_type": "code",
   "execution_count": 141,
   "metadata": {},
   "outputs": [
    {
     "data": {
      "text/latex": [
       "$\\displaystyle Q_{x} = K_{x}^{\\alpha} L_{x}^{1 - \\alpha}$"
      ],
      "text/plain": [
       "Eq(Q_x, K_x**\\alpha*L_x**(1 - \\alpha))"
      ]
     },
     "metadata": {},
     "output_type": "display_data"
    },
    {
     "data": {
      "text/latex": [
       "$\\displaystyle Q_{y} = K_{y}^{\\beta} L_{y}^{1 - \\beta}$"
      ],
      "text/plain": [
       "Eq(Q_y, K_y**\\beta*L_y**(1 - \\beta))"
      ]
     },
     "metadata": {},
     "output_type": "display_data"
    },
    {
     "data": {
      "text/latex": [
       "$\\displaystyle \\frac{w}{r} = \\frac{K_{x} \\left(1 - \\alpha\\right)}{L_{x} \\alpha}$"
      ],
      "text/plain": [
       "Eq(w/r, K_x*(1 - \\alpha)/(L_x*\\alpha))"
      ]
     },
     "metadata": {},
     "output_type": "display_data"
    },
    {
     "data": {
      "text/latex": [
       "$\\displaystyle \\frac{w}{r} = \\frac{K_{y} \\left(1 - \\beta\\right)}{L_{y} \\beta}$"
      ],
      "text/plain": [
       "Eq(w/r, K_y*(1 - \\beta)/(L_y*\\beta))"
      ]
     },
     "metadata": {},
     "output_type": "display_data"
    }
   ],
   "source": [
    "Qx, Qy, U, K, L, Kx, Ky, Lx, Ly, w, r, a, b, d, I, U, Cx, Cy, Px, Py = symbols(r'Q_x Q_y U K L K_x K_y L_x L_y w r \\alpha \\beta \\delta I U C_x C_y P_x P_y')\n",
    "qx_eq = Eq(Qx, Kx**(a) * Lx**(1-a))\n",
    "qy_eq = Eq(Qy, Ky**(b) * Ly**(1-b))\n",
    "qx_contraint = sympy.simplify(Eq(w/r, diff(qx_eq.rhs, Lx)/diff(qx_eq.rhs, Kx)))\n",
    "qy_contraint = sympy.simplify(Eq(w/r, diff(qy_eq.rhs, Ly)/diff(qy_eq.rhs, Ky)))\n",
    "display(qx_eq)\n",
    "display(qy_eq)\n",
    "display(qx_contraint)\n",
    "display(qy_contraint)"
   ]
  },
  {
   "cell_type": "code",
   "execution_count": 89,
   "metadata": {},
   "outputs": [
    {
     "data": {
      "text/latex": [
       "$\\displaystyle - \\frac{Q_{x} \\alpha^{1 - \\alpha} w^{1 - \\alpha} e^{- \\alpha \\log{\\left(- \\frac{1}{r \\left(\\alpha - 1\\right)} \\right)}}}{r \\left(\\alpha - 1\\right)}$"
      ],
      "text/plain": [
       "-Q_x*\\alpha**(1 - \\alpha)*w**(1 - \\alpha)*exp(-\\alpha*log(-1/(r*(\\alpha - 1))))/(r*(\\alpha - 1))"
      ]
     },
     "metadata": {},
     "output_type": "display_data"
    }
   ],
   "source": [
    "# solve a system of equations using qx_constraint and qx_eq to solve for Kx and Lx in terms of w and r\n",
    "Kx_eq, Lx_eq = solve((qx_contraint, qx_eq), (Kx, Lx))[0]\n",
    "Ky_eq, Ly_eq = solve((qy_contraint, qy_eq), (Ky, Ly))[0]\n",
    "display(Kx_eq)"
   ]
  },
  {
   "cell_type": "code",
   "execution_count": 90,
   "metadata": {},
   "outputs": [
    {
     "data": {
      "text/latex": [
       "$\\displaystyle K_{x} = - \\frac{Q_{x} \\alpha^{1 - \\alpha} w^{1 - \\alpha} e^{- \\alpha \\log{\\left(- \\frac{1}{r \\left(\\alpha - 1\\right)} \\right)}}}{r \\left(\\alpha - 1\\right)}$"
      ],
      "text/plain": [
       "Eq(K_x, -Q_x*\\alpha**(1 - \\alpha)*w**(1 - \\alpha)*exp(-\\alpha*log(-1/(r*(\\alpha - 1))))/(r*(\\alpha - 1)))"
      ]
     },
     "metadata": {},
     "output_type": "display_data"
    },
    {
     "data": {
      "text/latex": [
       "$\\displaystyle L_{x} = Q_{x} \\alpha^{- \\alpha} w^{- \\alpha} e^{- \\alpha \\log{\\left(- \\frac{1}{r \\left(\\alpha - 1\\right)} \\right)}}$"
      ],
      "text/plain": [
       "Eq(L_x, Q_x*exp(-\\alpha*log(-1/(r*(\\alpha - 1))))/(\\alpha**\\alpha*w**\\alpha))"
      ]
     },
     "metadata": {},
     "output_type": "display_data"
    },
    {
     "data": {
      "text/latex": [
       "$\\displaystyle K_{y} = - \\frac{Q_{y} \\beta^{1 - \\beta} w^{1 - \\beta} e^{- \\beta \\log{\\left(- \\frac{1}{r \\left(\\beta - 1\\right)} \\right)}}}{r \\left(\\beta - 1\\right)}$"
      ],
      "text/plain": [
       "Eq(K_y, -Q_y*\\beta**(1 - \\beta)*w**(1 - \\beta)*exp(-\\beta*log(-1/(r*(\\beta - 1))))/(r*(\\beta - 1)))"
      ]
     },
     "metadata": {},
     "output_type": "display_data"
    },
    {
     "data": {
      "text/latex": [
       "$\\displaystyle L_{y} = Q_{y} \\beta^{- \\beta} w^{- \\beta} e^{- \\beta \\log{\\left(- \\frac{1}{r \\left(\\beta - 1\\right)} \\right)}}$"
      ],
      "text/plain": [
       "Eq(L_y, Q_y*exp(-\\beta*log(-1/(r*(\\beta - 1))))/(\\beta**\\beta*w**\\beta))"
      ]
     },
     "metadata": {},
     "output_type": "display_data"
    }
   ],
   "source": [
    "Kx_eq = Eq(Kx, sympy.simplify(Kx_eq))\n",
    "Lx_eq = Eq(Lx, sympy.simplify(Lx_eq))\n",
    "Ky_eq = Eq(Ky, sympy.simplify(Ky_eq))\n",
    "Ly_eq = Eq(Ly, sympy.simplify(Ly_eq))\n",
    "display(Kx_eq)\n",
    "display(Lx_eq)\n",
    "display(Ky_eq)\n",
    "display(Ly_eq)\n"
   ]
  },
  {
   "cell_type": "code",
   "execution_count": 91,
   "metadata": {},
   "outputs": [
    {
     "data": {
      "text/latex": [
       "$\\displaystyle C_{x} = - \\frac{Q_{x} \\alpha^{- \\alpha} w^{1 - \\alpha} e^{- \\alpha \\log{\\left(- \\frac{1}{r \\left(\\alpha - 1\\right)} \\right)}}}{\\alpha - 1}$"
      ],
      "text/plain": [
       "Eq(C_x, -Q_x*w**(1 - \\alpha)*exp(-\\alpha*log(-1/(r*(\\alpha - 1))))/(\\alpha**\\alpha*(\\alpha - 1)))"
      ]
     },
     "metadata": {},
     "output_type": "display_data"
    },
    {
     "data": {
      "text/latex": [
       "$\\displaystyle C_{y} = - \\frac{Q_{y} \\beta^{- \\beta} w^{1 - \\beta} e^{- \\beta \\log{\\left(- \\frac{1}{r \\left(\\beta - 1\\right)} \\right)}}}{\\beta - 1}$"
      ],
      "text/plain": [
       "Eq(C_y, -Q_y*w**(1 - \\beta)*exp(-\\beta*log(-1/(r*(\\beta - 1))))/(\\beta**\\beta*(\\beta - 1)))"
      ]
     },
     "metadata": {},
     "output_type": "display_data"
    },
    {
     "data": {
      "text/latex": [
       "$\\displaystyle P_{x} = - \\frac{\\alpha^{- \\alpha} w^{1 - \\alpha} e^{- \\alpha \\log{\\left(- \\frac{1}{r \\left(\\alpha - 1\\right)} \\right)}}}{\\alpha - 1}$"
      ],
      "text/plain": [
       "Eq(P_x, -w**(1 - \\alpha)*exp(-\\alpha*log(-1/(r*(\\alpha - 1))))/(\\alpha**\\alpha*(\\alpha - 1)))"
      ]
     },
     "metadata": {},
     "output_type": "display_data"
    },
    {
     "data": {
      "text/latex": [
       "$\\displaystyle P_{y} = - \\frac{\\beta^{- \\beta} w^{1 - \\beta} e^{- \\beta \\log{\\left(- \\frac{1}{r \\left(\\beta - 1\\right)} \\right)}}}{\\beta - 1}$"
      ],
      "text/plain": [
       "Eq(P_y, -w**(1 - \\beta)*exp(-\\beta*log(-1/(r*(\\beta - 1))))/(\\beta**\\beta*(\\beta - 1)))"
      ]
     },
     "metadata": {},
     "output_type": "display_data"
    }
   ],
   "source": [
    "cx_eq = Eq(Cx, sympy.simplify(w*Lx_eq.rhs + r*Kx_eq.rhs))\n",
    "cy_eq = Eq(Cy, sympy.simplify(w*Ly_eq.rhs + r*Ky_eq.rhs))\n",
    "display(cx_eq)\n",
    "display(cy_eq)\n",
    "Px_eq = Eq(Px, cx_eq.rhs/Qx)\n",
    "Py_eq = Eq(Py, cy_eq.rhs/Qy)\n",
    "display(Px_eq)\n",
    "display(Py_eq)"
   ]
  },
  {
   "cell_type": "code",
   "execution_count": 92,
   "metadata": {},
   "outputs": [
    {
     "data": {
      "text/latex": [
       "$\\displaystyle L = L_{x} + L_{y}$"
      ],
      "text/plain": [
       "Eq(L, L_x + L_y)"
      ]
     },
     "metadata": {},
     "output_type": "display_data"
    },
    {
     "data": {
      "text/latex": [
       "$\\displaystyle K = K_{x} + K_{y}$"
      ],
      "text/plain": [
       "Eq(K, K_x + K_y)"
      ]
     },
     "metadata": {},
     "output_type": "display_data"
    }
   ],
   "source": [
    "l_eq = Eq(L, Lx + Ly)\n",
    "k_eq = Eq(K, Kx + Ky)\n",
    "display(l_eq)\n",
    "display(k_eq)"
   ]
  },
  {
   "cell_type": "code",
   "execution_count": 93,
   "metadata": {},
   "outputs": [
    {
     "data": {
      "text/latex": [
       "$\\displaystyle U = Q_{x}^{\\delta} Q_{y}^{1 - \\delta}$"
      ],
      "text/plain": [
       "Eq(U, Q_x**\\delta*Q_y**(1 - \\delta))"
      ]
     },
     "metadata": {},
     "output_type": "display_data"
    },
    {
     "data": {
      "text/latex": [
       "$\\displaystyle P_{x} Q_{x} + P_{y} Q_{y} = K r + L w$"
      ],
      "text/plain": [
       "Eq(P_x*Q_x + P_y*Q_y, K*r + L*w)"
      ]
     },
     "metadata": {},
     "output_type": "display_data"
    },
    {
     "data": {
      "text/latex": [
       "$\\displaystyle \\frac{P_{x}}{P_{y}} = - \\frac{Q_{y} \\delta}{Q_{x} \\left(\\delta - 1\\right)}$"
      ],
      "text/plain": [
       "Eq(P_x/P_y, -Q_y*\\delta/(Q_x*(\\delta - 1)))"
      ]
     },
     "metadata": {},
     "output_type": "display_data"
    }
   ],
   "source": [
    "u_eq = Eq(U, Qx**(d) * Qy**(1-d))\n",
    "display(u_eq)\n",
    "i_consume_eq = Eq(I, Px * Qx + Py * Qy)\n",
    "i_earn_eq = Eq(I, r * K + w * L)\n",
    "i_eq = Eq(i_consume_eq.rhs, i_earn_eq.rhs)\n",
    "u_constraint = sympy.simplify(Eq(Px / Py, diff(u_eq.rhs, Qx) / diff(u_eq.rhs, Qy)))\n",
    "display(i_eq)\n",
    "display(u_constraint)"
   ]
  },
  {
   "cell_type": "code",
   "execution_count": 94,
   "metadata": {},
   "outputs": [
    {
     "data": {
      "text/plain": [
       "{Q_x: \\delta*(K*r + L*w)/P_x, Q_y: (-K*\\delta*r + K*r - L*\\delta*w + L*w)/P_y}"
      ]
     },
     "metadata": {},
     "output_type": "display_data"
    },
    {
     "data": {
      "text/latex": [
       "$\\displaystyle Q_{x} = \\frac{\\delta \\left(K r + L w\\right)}{P_{x}}$"
      ],
      "text/plain": [
       "Eq(Q_x, \\delta*(K*r + L*w)/P_x)"
      ]
     },
     "metadata": {},
     "output_type": "display_data"
    },
    {
     "data": {
      "text/latex": [
       "$\\displaystyle Q_{y} = \\frac{- K \\delta r + K r - L \\delta w + L w}{P_{y}}$"
      ],
      "text/plain": [
       "Eq(Q_y, (-K*\\delta*r + K*r - L*\\delta*w + L*w)/P_y)"
      ]
     },
     "metadata": {},
     "output_type": "display_data"
    }
   ],
   "source": [
    "res = solve((u_constraint, i_eq), (Qx, Qy))\n",
    "c_qx_eq = res[Qx]\n",
    "c_qy_eq = res[Qy]\n",
    "display(res)\n",
    "c_qx_eq = sympy.simplify(Eq(Qx, c_qx_eq))\n",
    "c_qy_eq = sympy.simplify(Eq(Qy, c_qy_eq))\n",
    "display(c_qx_eq)\n",
    "display(c_qy_eq)"
   ]
  },
  {
   "cell_type": "code",
   "execution_count": 95,
   "metadata": {},
   "outputs": [
    {
     "data": {
      "text/latex": [
       "$\\displaystyle L = Q_{x} \\alpha^{- \\alpha} w^{- \\alpha} e^{- \\alpha \\log{\\left(- \\frac{1}{r \\left(\\alpha - 1\\right)} \\right)}} + Q_{y} \\beta^{- \\beta} w^{- \\beta} e^{- \\beta \\log{\\left(- \\frac{1}{r \\left(\\beta - 1\\right)} \\right)}}$"
      ],
      "text/plain": [
       "Eq(L, Q_x*exp(-\\alpha*log(-1/(r*(\\alpha - 1))))/(\\alpha**\\alpha*w**\\alpha) + Q_y*exp(-\\beta*log(-1/(r*(\\beta - 1))))/(\\beta**\\beta*w**\\beta))"
      ]
     },
     "metadata": {},
     "output_type": "display_data"
    },
    {
     "data": {
      "text/latex": [
       "$\\displaystyle K = - \\frac{Q_{x} \\alpha^{1 - \\alpha} w^{1 - \\alpha} e^{- \\alpha \\log{\\left(- \\frac{1}{r \\left(\\alpha - 1\\right)} \\right)}}}{r \\left(\\alpha - 1\\right)} - \\frac{Q_{y} \\beta^{1 - \\beta} w^{1 - \\beta} e^{- \\beta \\log{\\left(- \\frac{1}{r \\left(\\beta - 1\\right)} \\right)}}}{r \\left(\\beta - 1\\right)}$"
      ],
      "text/plain": [
       "Eq(K, -Q_x*\\alpha**(1 - \\alpha)*w**(1 - \\alpha)*exp(-\\alpha*log(-1/(r*(\\alpha - 1))))/(r*(\\alpha - 1)) - Q_y*\\beta**(1 - \\beta)*w**(1 - \\beta)*exp(-\\beta*log(-1/(r*(\\beta - 1))))/(r*(\\beta - 1)))"
      ]
     },
     "metadata": {},
     "output_type": "display_data"
    }
   ],
   "source": [
    "# substitute Kx, Lx, Ky, Ly into l_eq and k_eq\n",
    "l_eq = l_eq.subs([(Lx, Lx_eq.rhs), (Ly, Ly_eq.rhs)])\n",
    "k_eq = k_eq.subs([(Kx, Kx_eq.rhs), (Ky, Ky_eq.rhs)])\n",
    "display(l_eq)\n",
    "display(k_eq)"
   ]
  },
  {
   "cell_type": "code",
   "execution_count": 96,
   "metadata": {},
   "outputs": [
    {
     "data": {
      "text/latex": [
       "$\\displaystyle L = \\frac{\\beta^{- \\beta} w^{- \\beta} \\left(- K \\delta r + K r - L \\delta w + L w\\right) e^{- \\beta \\log{\\left(- \\frac{1}{r \\left(\\beta - 1\\right)} \\right)}}}{P_{y}} + \\frac{\\alpha^{- \\alpha} \\delta w^{- \\alpha} \\left(K r + L w\\right) e^{- \\alpha \\log{\\left(- \\frac{1}{r \\left(\\alpha - 1\\right)} \\right)}}}{P_{x}}$"
      ],
      "text/plain": [
       "Eq(L, (-K*\\delta*r + K*r - L*\\delta*w + L*w)*exp(-\\beta*log(-1/(r*(\\beta - 1))))/(P_y*\\beta**\\beta*w**\\beta) + \\delta*(K*r + L*w)*exp(-\\alpha*log(-1/(r*(\\alpha - 1))))/(P_x*\\alpha**\\alpha*w**\\alpha))"
      ]
     },
     "metadata": {},
     "output_type": "display_data"
    },
    {
     "data": {
      "text/latex": [
       "$\\displaystyle K = - \\frac{\\beta^{1 - \\beta} w^{1 - \\beta} \\left(- K \\delta r + K r - L \\delta w + L w\\right) e^{- \\beta \\log{\\left(- \\frac{1}{r \\left(\\beta - 1\\right)} \\right)}}}{P_{y} r \\left(\\beta - 1\\right)} - \\frac{\\alpha^{1 - \\alpha} \\delta w^{1 - \\alpha} \\left(K r + L w\\right) e^{- \\alpha \\log{\\left(- \\frac{1}{r \\left(\\alpha - 1\\right)} \\right)}}}{P_{x} r \\left(\\alpha - 1\\right)}$"
      ],
      "text/plain": [
       "Eq(K, -\\beta**(1 - \\beta)*w**(1 - \\beta)*(-K*\\delta*r + K*r - L*\\delta*w + L*w)*exp(-\\beta*log(-1/(r*(\\beta - 1))))/(P_y*r*(\\beta - 1)) - \\alpha**(1 - \\alpha)*\\delta*w**(1 - \\alpha)*(K*r + L*w)*exp(-\\alpha*log(-1/(r*(\\alpha - 1))))/(P_x*r*(\\alpha - 1)))"
      ]
     },
     "metadata": {},
     "output_type": "display_data"
    }
   ],
   "source": [
    "# substitute c_qx_eq and c_qy_eq into l_eq and k_eq\n",
    "l_eq = l_eq.subs([(Qx, c_qx_eq.rhs), (Qy, c_qy_eq.rhs)])\n",
    "k_eq = k_eq.subs([(Qx, c_qx_eq.rhs), (Qy, c_qy_eq.rhs)])\n",
    "display(l_eq)\n",
    "display(k_eq)"
   ]
  },
  {
   "cell_type": "code",
   "execution_count": 97,
   "metadata": {},
   "outputs": [
    {
     "data": {
      "text/latex": [
       "$\\displaystyle L = - \\delta w^{- \\alpha} w^{\\alpha - 1} \\left(\\alpha - 1\\right) \\left(K r + L w\\right) - w^{- \\beta} w^{\\beta - 1} \\left(\\beta - 1\\right) \\left(- K \\delta r + K r - L \\delta w + L w\\right)$"
      ],
      "text/plain": [
       "Eq(L, -\\delta*w**(\\alpha - 1)*(\\alpha - 1)*(K*r + L*w)/w**\\alpha - w**(\\beta - 1)*(\\beta - 1)*(-K*\\delta*r + K*r - L*\\delta*w + L*w)/w**\\beta)"
      ]
     },
     "metadata": {},
     "output_type": "display_data"
    },
    {
     "data": {
      "text/latex": [
       "$\\displaystyle K = \\frac{\\alpha^{\\alpha} \\alpha^{1 - \\alpha} \\delta w^{1 - \\alpha} w^{\\alpha - 1} \\left(K r + L w\\right)}{r} + \\frac{\\beta^{\\beta} \\beta^{1 - \\beta} w^{1 - \\beta} w^{\\beta - 1} \\left(- K \\delta r + K r - L \\delta w + L w\\right)}{r}$"
      ],
      "text/plain": [
       "Eq(K, \\alpha**\\alpha*\\alpha**(1 - \\alpha)*\\delta*w**(1 - \\alpha)*w**(\\alpha - 1)*(K*r + L*w)/r + \\beta**\\beta*\\beta**(1 - \\beta)*w**(1 - \\beta)*w**(\\beta - 1)*(-K*\\delta*r + K*r - L*\\delta*w + L*w)/r)"
      ]
     },
     "metadata": {},
     "output_type": "display_data"
    }
   ],
   "source": [
    "# substitute Px_eq and Py_eq into l_eq and k_eq\n",
    "l_eq = l_eq.subs([(Px, Px_eq.rhs), (Py, Py_eq.rhs)])\n",
    "k_eq = k_eq.subs([(Px, Px_eq.rhs), (Py, Py_eq.rhs)])\n",
    "display(l_eq)\n",
    "display(k_eq)"
   ]
  },
  {
   "cell_type": "code",
   "execution_count": 98,
   "metadata": {},
   "outputs": [
    {
     "data": {
      "text/latex": [
       "$\\displaystyle L = \\frac{- \\delta \\left(\\alpha - 1\\right) \\left(K r + L w\\right) + \\left(\\beta - 1\\right) \\left(K \\delta r - K r + L \\delta w - L w\\right)}{w}$"
      ],
      "text/plain": [
       "Eq(L, (-\\delta*(\\alpha - 1)*(K*r + L*w) + (\\beta - 1)*(K*\\delta*r - K*r + L*\\delta*w - L*w))/w)"
      ]
     },
     "metadata": {},
     "output_type": "display_data"
    },
    {
     "data": {
      "text/latex": [
       "$\\displaystyle K = \\frac{\\alpha \\delta \\left(K r + L w\\right) - \\beta \\left(K \\delta r - K r + L \\delta w - L w\\right)}{r}$"
      ],
      "text/plain": [
       "Eq(K, (\\alpha*\\delta*(K*r + L*w) - \\beta*(K*\\delta*r - K*r + L*\\delta*w - L*w))/r)"
      ]
     },
     "metadata": {},
     "output_type": "display_data"
    }
   ],
   "source": [
    "l_eq_s = sympy.simplify(l_eq)\n",
    "k_eq_s = sympy.simplify(k_eq)\n",
    "display(l_eq_s)\n",
    "display(k_eq_s)"
   ]
  },
  {
   "cell_type": "code",
   "execution_count": 99,
   "metadata": {},
   "outputs": [
    {
     "data": {
      "text/latex": [
       "$\\displaystyle \\left\\{ r : \\frac{L w \\left(- \\alpha \\delta + \\beta \\delta - \\beta\\right)}{K \\left(\\alpha \\delta - \\beta \\delta + \\beta - 1\\right)}\\right\\}$"
      ],
      "text/plain": [
       "{r: L*w*(-\\alpha*\\delta + \\beta*\\delta - \\beta)/(K*(\\alpha*\\delta - \\beta*\\delta + \\beta - 1))}"
      ]
     },
     "metadata": {},
     "output_type": "display_data"
    }
   ],
   "source": [
    "# solve for r and w\n",
    "w1 = Eq(w, 1)  # return to factors of production is relative to wage.\n",
    "r_w_s = solve((l_eq_s, k_eq_s, w1), r)\n",
    "r_w_s = sympy.simplify(r_w_s)\n",
    "display(r_w_s)"
   ]
  },
  {
   "cell_type": "code",
   "execution_count": 160,
   "metadata": {},
   "outputs": [],
   "source": [
    "r_w_s_func = sympy.lambdify((w, L, K, a, b, d), r_w_s[r], 'numpy')"
   ]
  },
  {
   "cell_type": "code",
   "execution_count": 111,
   "metadata": {},
   "outputs": [
    {
     "data": {
      "text/latex": [
       "$\\displaystyle K_{x} = - \\frac{Q_{x} \\alpha^{1 - \\alpha} w^{1 - \\alpha} e^{- \\alpha \\log{\\left(- \\frac{1}{r \\left(\\alpha - 1\\right)} \\right)}}}{r \\left(\\alpha - 1\\right)}$"
      ],
      "text/plain": [
       "Eq(K_x, -Q_x*\\alpha**(1 - \\alpha)*w**(1 - \\alpha)*exp(-\\alpha*log(-1/(r*(\\alpha - 1))))/(r*(\\alpha - 1)))"
      ]
     },
     "metadata": {},
     "output_type": "display_data"
    },
    {
     "data": {
      "text/latex": [
       "$\\displaystyle L_{x} = Q_{x} \\alpha^{- \\alpha} w^{- \\alpha} e^{- \\alpha \\log{\\left(- \\frac{1}{r \\left(\\alpha - 1\\right)} \\right)}}$"
      ],
      "text/plain": [
       "Eq(L_x, Q_x*exp(-\\alpha*log(-1/(r*(\\alpha - 1))))/(\\alpha**\\alpha*w**\\alpha))"
      ]
     },
     "metadata": {},
     "output_type": "display_data"
    },
    {
     "data": {
      "text/latex": [
       "$\\displaystyle Q_{x} = \\frac{\\delta \\left(K r + L w\\right)}{P_{x}}$"
      ],
      "text/plain": [
       "Eq(Q_x, \\delta*(K*r + L*w)/P_x)"
      ]
     },
     "metadata": {},
     "output_type": "display_data"
    },
    {
     "data": {
      "text/latex": [
       "$\\displaystyle K_{x} = - \\frac{\\alpha^{1 - \\alpha} \\delta w^{1 - \\alpha} \\left(K r + L w\\right) e^{- \\alpha \\log{\\left(- \\frac{1}{r \\left(\\alpha - 1\\right)} \\right)}}}{P_{x} r \\left(\\alpha - 1\\right)}$"
      ],
      "text/plain": [
       "Eq(K_x, -\\alpha**(1 - \\alpha)*\\delta*w**(1 - \\alpha)*(K*r + L*w)*exp(-\\alpha*log(-1/(r*(\\alpha - 1))))/(P_x*r*(\\alpha - 1)))"
      ]
     },
     "metadata": {},
     "output_type": "display_data"
    },
    {
     "data": {
      "text/latex": [
       "$\\displaystyle L_{x} = \\frac{\\alpha^{- \\alpha} \\delta w^{- \\alpha} \\left(K r + L w\\right) e^{- \\alpha \\log{\\left(- \\frac{1}{r \\left(\\alpha - 1\\right)} \\right)}}}{P_{x}}$"
      ],
      "text/plain": [
       "Eq(L_x, \\delta*(K*r + L*w)*exp(-\\alpha*log(-1/(r*(\\alpha - 1))))/(P_x*\\alpha**\\alpha*w**\\alpha))"
      ]
     },
     "metadata": {},
     "output_type": "display_data"
    },
    {
     "data": {
      "text/latex": [
       "$\\displaystyle K_{x} = \\frac{\\alpha^{\\alpha} \\alpha^{1 - \\alpha} \\delta w^{1 - \\alpha} w^{\\alpha - 1} \\left(K r + L w\\right)}{r}$"
      ],
      "text/plain": [
       "Eq(K_x, \\alpha**\\alpha*\\alpha**(1 - \\alpha)*\\delta*w**(1 - \\alpha)*w**(\\alpha - 1)*(K*r + L*w)/r)"
      ]
     },
     "metadata": {},
     "output_type": "display_data"
    },
    {
     "data": {
      "text/latex": [
       "$\\displaystyle L_{x} = - \\delta w^{- \\alpha} w^{\\alpha - 1} \\left(\\alpha - 1\\right) \\left(K r + L w\\right)$"
      ],
      "text/plain": [
       "Eq(L_x, -\\delta*w**(\\alpha - 1)*(\\alpha - 1)*(K*r + L*w)/w**\\alpha)"
      ]
     },
     "metadata": {},
     "output_type": "display_data"
    },
    {
     "data": {
      "text/latex": [
       "$\\displaystyle \\frac{K_{x}}{L_{x}} = - \\frac{\\alpha w}{r \\left(\\alpha - 1\\right)}$"
      ],
      "text/plain": [
       "Eq(K_x/L_x, -\\alpha*w/(r*(\\alpha - 1)))"
      ]
     },
     "metadata": {},
     "output_type": "display_data"
    }
   ],
   "source": [
    "# simplify Kx and Lx \n",
    "display(Kx_eq)\n",
    "display(Lx_eq)\n",
    "display(c_qx_eq)\n",
    "Kx_eq_qx = Kx_eq.subs(Qx, c_qx_eq.rhs)\n",
    "Lx_eq_qx = Lx_eq.subs(Qx, c_qx_eq.rhs)\n",
    "display(Kx_eq_qx)\n",
    "display(Lx_eq_qx)\n",
    "Kx_eq_qx_px = Kx_eq_qx.subs(Px, Px_eq.rhs)\n",
    "Lx_eq_qx_px = Lx_eq_qx.subs(Px, Px_eq.rhs)\n",
    "display(Kx_eq_qx_px)\n",
    "display(Lx_eq_qx_px)\n",
    "k_l_x = Eq(Kx/Lx, sympy.simplify(Kx_eq_qx_px.rhs/Lx_eq_qx_px.rhs))\n",
    "display(k_l_x)"
   ]
  },
  {
   "cell_type": "code",
   "execution_count": 112,
   "metadata": {},
   "outputs": [
    {
     "data": {
      "text/latex": [
       "$\\displaystyle K_{y} = - \\frac{Q_{y} \\beta^{1 - \\beta} w^{1 - \\beta} e^{- \\beta \\log{\\left(- \\frac{1}{r \\left(\\beta - 1\\right)} \\right)}}}{r \\left(\\beta - 1\\right)}$"
      ],
      "text/plain": [
       "Eq(K_y, -Q_y*\\beta**(1 - \\beta)*w**(1 - \\beta)*exp(-\\beta*log(-1/(r*(\\beta - 1))))/(r*(\\beta - 1)))"
      ]
     },
     "metadata": {},
     "output_type": "display_data"
    },
    {
     "data": {
      "text/latex": [
       "$\\displaystyle L_{y} = Q_{y} \\beta^{- \\beta} w^{- \\beta} e^{- \\beta \\log{\\left(- \\frac{1}{r \\left(\\beta - 1\\right)} \\right)}}$"
      ],
      "text/plain": [
       "Eq(L_y, Q_y*exp(-\\beta*log(-1/(r*(\\beta - 1))))/(\\beta**\\beta*w**\\beta))"
      ]
     },
     "metadata": {},
     "output_type": "display_data"
    },
    {
     "data": {
      "text/latex": [
       "$\\displaystyle Q_{y} = \\frac{- K \\delta r + K r - L \\delta w + L w}{P_{y}}$"
      ],
      "text/plain": [
       "Eq(Q_y, (-K*\\delta*r + K*r - L*\\delta*w + L*w)/P_y)"
      ]
     },
     "metadata": {},
     "output_type": "display_data"
    },
    {
     "data": {
      "text/latex": [
       "$\\displaystyle K_{y} = - \\frac{\\beta^{1 - \\beta} w^{1 - \\beta} \\left(- K \\delta r + K r - L \\delta w + L w\\right) e^{- \\beta \\log{\\left(- \\frac{1}{r \\left(\\beta - 1\\right)} \\right)}}}{P_{y} r \\left(\\beta - 1\\right)}$"
      ],
      "text/plain": [
       "Eq(K_y, -\\beta**(1 - \\beta)*w**(1 - \\beta)*(-K*\\delta*r + K*r - L*\\delta*w + L*w)*exp(-\\beta*log(-1/(r*(\\beta - 1))))/(P_y*r*(\\beta - 1)))"
      ]
     },
     "metadata": {},
     "output_type": "display_data"
    },
    {
     "data": {
      "text/latex": [
       "$\\displaystyle L_{y} = \\frac{\\beta^{- \\beta} w^{- \\beta} \\left(- K \\delta r + K r - L \\delta w + L w\\right) e^{- \\beta \\log{\\left(- \\frac{1}{r \\left(\\beta - 1\\right)} \\right)}}}{P_{y}}$"
      ],
      "text/plain": [
       "Eq(L_y, (-K*\\delta*r + K*r - L*\\delta*w + L*w)*exp(-\\beta*log(-1/(r*(\\beta - 1))))/(P_y*\\beta**\\beta*w**\\beta))"
      ]
     },
     "metadata": {},
     "output_type": "display_data"
    },
    {
     "data": {
      "text/latex": [
       "$\\displaystyle K_{y} = \\frac{\\beta^{\\beta} \\beta^{1 - \\beta} w^{1 - \\beta} w^{\\beta - 1} \\left(- K \\delta r + K r - L \\delta w + L w\\right)}{r}$"
      ],
      "text/plain": [
       "Eq(K_y, \\beta**\\beta*\\beta**(1 - \\beta)*w**(1 - \\beta)*w**(\\beta - 1)*(-K*\\delta*r + K*r - L*\\delta*w + L*w)/r)"
      ]
     },
     "metadata": {},
     "output_type": "display_data"
    },
    {
     "data": {
      "text/latex": [
       "$\\displaystyle L_{y} = - w^{- \\beta} w^{\\beta - 1} \\left(\\beta - 1\\right) \\left(- K \\delta r + K r - L \\delta w + L w\\right)$"
      ],
      "text/plain": [
       "Eq(L_y, -w**(\\beta - 1)*(\\beta - 1)*(-K*\\delta*r + K*r - L*\\delta*w + L*w)/w**\\beta)"
      ]
     },
     "metadata": {},
     "output_type": "display_data"
    },
    {
     "data": {
      "text/latex": [
       "$\\displaystyle \\frac{K_{y}}{L_{y}} = - \\frac{\\beta w}{r \\left(\\beta - 1\\right)}$"
      ],
      "text/plain": [
       "Eq(K_y/L_y, -\\beta*w/(r*(\\beta - 1)))"
      ]
     },
     "metadata": {},
     "output_type": "display_data"
    }
   ],
   "source": [
    "# simplify Ky and Ly\n",
    "display(Ky_eq)\n",
    "display(Ly_eq)\n",
    "display(c_qy_eq)\n",
    "Ky_eq_qy = Ky_eq.subs(Qy, c_qy_eq.rhs)\n",
    "Ly_eq_qy = Ly_eq.subs(Qy, c_qy_eq.rhs)\n",
    "display(Ky_eq_qy)\n",
    "display(Ly_eq_qy)\n",
    "Ky_eq_qy_py = Ky_eq_qy.subs(Py, Py_eq.rhs)\n",
    "Ly_eq_qy_py = Ly_eq_qy.subs(Py, Py_eq.rhs)\n",
    "display(Ky_eq_qy_py)\n",
    "display(Ly_eq_qy_py)\n",
    "k_l_y = Eq(Ky/Ly, sympy.simplify(Ky_eq_qy_py.rhs/Ly_eq_qy_py.rhs))\n",
    "display(k_l_y)"
   ]
  },
  {
   "cell_type": "code",
   "execution_count": 161,
   "metadata": {},
   "outputs": [],
   "source": [
    "# lambdify the (K/L)y and (K/L)x functions\n",
    "k_l_x_func = sympy.lambdify((w, r, a), k_l_x.rhs, 'numpy')\n",
    "k_l_y_func = sympy.lambdify((w, r, b), k_l_y.rhs, 'numpy')"
   ]
  },
  {
   "cell_type": "code",
   "execution_count": 167,
   "metadata": {},
   "outputs": [
    {
     "data": {
      "text/latex": [
       "$\\displaystyle P_{x} = - \\frac{\\alpha^{- \\alpha} w^{1 - \\alpha} e^{- \\alpha \\log{\\left(\\frac{K \\left(\\alpha \\delta - \\beta \\delta + \\beta - 1\\right)}{L w \\left(\\alpha - 1\\right) \\left(\\alpha \\delta - \\beta \\delta + \\beta\\right)} \\right)}}}{\\alpha - 1}$"
      ],
      "text/plain": [
       "Eq(P_x, -w**(1 - \\alpha)*exp(-\\alpha*log(K*(\\alpha*\\delta - \\beta*\\delta + \\beta - 1)/(L*w*(\\alpha - 1)*(\\alpha*\\delta - \\beta*\\delta + \\beta))))/(\\alpha**\\alpha*(\\alpha - 1)))"
      ]
     },
     "metadata": {},
     "output_type": "display_data"
    },
    {
     "data": {
      "text/latex": [
       "$\\displaystyle P_{y} = - \\frac{\\beta^{- \\beta} w^{1 - \\beta} e^{- \\beta \\log{\\left(\\frac{K \\left(\\alpha \\delta - \\beta \\delta + \\beta - 1\\right)}{L w \\left(\\beta - 1\\right) \\left(\\alpha \\delta - \\beta \\delta + \\beta\\right)} \\right)}}}{\\beta - 1}$"
      ],
      "text/plain": [
       "Eq(P_y, -w**(1 - \\beta)*exp(-\\beta*log(K*(\\alpha*\\delta - \\beta*\\delta + \\beta - 1)/(L*w*(\\beta - 1)*(\\alpha*\\delta - \\beta*\\delta + \\beta))))/(\\beta**\\beta*(\\beta - 1)))"
      ]
     },
     "metadata": {},
     "output_type": "display_data"
    },
    {
     "data": {
      "text/latex": [
       "$\\displaystyle Q_{x} = K_{x}^{\\alpha} L_{x}^{1 - \\alpha}$"
      ],
      "text/plain": [
       "Eq(Q_x, K_x**\\alpha*L_x**(1 - \\alpha))"
      ]
     },
     "metadata": {},
     "output_type": "display_data"
    },
    {
     "data": {
      "text/latex": [
       "$\\displaystyle Q_{y} = K_{y}^{\\beta} L_{y}^{1 - \\beta}$"
      ],
      "text/plain": [
       "Eq(Q_y, K_y**\\beta*L_y**(1 - \\beta))"
      ]
     },
     "metadata": {},
     "output_type": "display_data"
    },
    {
     "data": {
      "text/latex": [
       "$\\displaystyle K_{x}^{\\alpha} L_{x}^{1 - \\alpha} = \\alpha^{\\alpha} w^{\\alpha - 1} \\left(1 - \\alpha\\right) e^{\\alpha \\log{\\left(\\frac{K \\left(\\alpha \\delta - \\beta \\delta + \\beta - 1\\right)}{L w \\left(\\alpha - 1\\right) \\left(\\alpha \\delta - \\beta \\delta + \\beta\\right)} \\right)}}$"
      ],
      "text/plain": [
       "Eq(K_x**\\alpha*L_x**(1 - \\alpha), \\alpha**\\alpha*w**(\\alpha - 1)*(1 - \\alpha)*exp(\\alpha*log(K*(\\alpha*\\delta - \\beta*\\delta + \\beta - 1)/(L*w*(\\alpha - 1)*(\\alpha*\\delta - \\beta*\\delta + \\beta)))))"
      ]
     },
     "metadata": {},
     "output_type": "display_data"
    },
    {
     "data": {
      "text/latex": [
       "$\\displaystyle \\left(K_{x}^{- \\alpha} \\alpha^{\\alpha} w^{\\alpha - 1} \\left(1 - \\alpha\\right) e^{\\alpha \\log{\\left(\\frac{K \\left(\\alpha \\delta - \\beta \\delta + \\beta - 1\\right)}{L w \\left(\\alpha^{2} \\delta - \\alpha \\beta \\delta + \\alpha \\beta - \\alpha \\delta + \\beta \\delta - \\beta\\right)} \\right)}}\\right)^{- \\frac{1}{\\alpha - 1}}$"
      ],
      "text/plain": [
       "(\\alpha**\\alpha*w**(\\alpha - 1)*(1 - \\alpha)*exp(\\alpha*log(K*(\\alpha*\\delta - \\beta*\\delta + \\beta - 1)/(L*w*(\\alpha**2*\\delta - \\alpha*\\beta*\\delta + \\alpha*\\beta - \\alpha*\\delta + \\beta*\\delta - \\beta))))/K_x**\\alpha)**(-1/(\\alpha - 1))"
      ]
     },
     "metadata": {},
     "output_type": "display_data"
    },
    {
     "data": {
      "text/latex": [
       "$\\displaystyle K_{y}^{\\beta} L_{y}^{1 - \\beta} = \\beta^{\\beta} w^{\\beta - 1} \\left(1 - \\beta\\right) e^{\\beta \\log{\\left(\\frac{K \\left(\\alpha \\delta - \\beta \\delta + \\beta - 1\\right)}{L w \\left(\\beta - 1\\right) \\left(\\alpha \\delta - \\beta \\delta + \\beta\\right)} \\right)}}$"
      ],
      "text/plain": [
       "Eq(K_y**\\beta*L_y**(1 - \\beta), \\beta**\\beta*w**(\\beta - 1)*(1 - \\beta)*exp(\\beta*log(K*(\\alpha*\\delta - \\beta*\\delta + \\beta - 1)/(L*w*(\\beta - 1)*(\\alpha*\\delta - \\beta*\\delta + \\beta)))))"
      ]
     },
     "metadata": {},
     "output_type": "display_data"
    },
    {
     "data": {
      "text/latex": [
       "$\\displaystyle \\left(K_{y}^{- \\beta} \\beta^{\\beta} w^{\\beta - 1} \\left(1 - \\beta\\right) e^{\\beta \\log{\\left(\\frac{K \\left(\\alpha \\delta - \\beta \\delta + \\beta - 1\\right)}{L w \\left(\\alpha \\beta \\delta - \\alpha \\delta - \\beta^{2} \\delta + \\beta^{2} + \\beta \\delta - \\beta\\right)} \\right)}}\\right)^{- \\frac{1}{\\beta - 1}}$"
      ],
      "text/plain": [
       "(\\beta**\\beta*w**(\\beta - 1)*(1 - \\beta)*exp(\\beta*log(K*(\\alpha*\\delta - \\beta*\\delta + \\beta - 1)/(L*w*(\\alpha*\\beta*\\delta - \\alpha*\\delta - \\beta**2*\\delta + \\beta**2 + \\beta*\\delta - \\beta))))/K_y**\\beta)**(-1/(\\beta - 1))"
      ]
     },
     "metadata": {},
     "output_type": "display_data"
    }
   ],
   "source": [
    "# solve for Qx(Lx, Kx) = 1/Px and Qy(Ly, Ky) = 1/Py\n",
    "# simplify Px Py equations \n",
    "Px_eq_sim = sympy.simplify(Px_eq.subs([(r, r_w_s[r])]))\n",
    "display(Px_eq_sim)\n",
    "Py_eq_sim = sympy.simplify(Py_eq.subs([(r, r_w_s[r])]))\n",
    "display(Py_eq_sim)\n",
    "display(qx_eq)\n",
    "display(qy_eq)\n",
    "\n",
    "qx_eq_iso_px = sympy.simplify(qx_eq.subs(Qx, 1/Px_eq_sim.rhs))\n",
    "display(qx_eq_iso_px)\n",
    "qx_eq_iso_px_lx = solve((qx_eq_iso_px), Lx)[0]\n",
    "display(qx_eq_iso_px_lx)\n",
    "\n",
    "qy_eq_iso_py = sympy.simplify(qy_eq.subs(Qy, 1/Py_eq_sim.rhs))\n",
    "display(qy_eq_iso_py)\n",
    "qy_eq_iso_py_ly = solve((qy_eq_iso_py), Ly)[0]\n",
    "display(qy_eq_iso_py_ly)"
   ]
  },
  {
   "cell_type": "code",
   "execution_count": 168,
   "metadata": {},
   "outputs": [],
   "source": [
    "# lambdify isocost production contours \n",
    "qx_eq_iso_px_lx_func = sympy.lambdify((w, r, L, K, Kx, a, b, d), qx_eq_iso_px_lx)\n",
    "qy_eq_iso_py_ly_func = sympy.lambdify((w, r, L, K, Ky, a, b, d), qy_eq_iso_py_ly)"
   ]
  },
  {
   "cell_type": "code",
   "execution_count": null,
   "metadata": {},
   "outputs": [],
   "source": [
    "alpha_v = 0.25\n",
    "beta_v = 0.75\n",
    "delta_v = 0.25\n",
    "w_v = 1\n",
    "L_v = 100\n",
    "K_v = 100\n",
    "\n",
    "# find the rental and wage values\n",
    "w_value = 1\n",
    "r_value = r_w_s_func(w_value, L_v, K_v, alpha_v, beta_v, delta_v)\n",
    "\n",
    "# find the cone K/L ratios \n",
    "k_l_x_v = k_l_x_func(w_value, r_value, alpha_v)\n",
    "k_l_y_v = k_l_y_func(w_value, r_value, beta_v)"
   ]
  },
  {
   "cell_type": "code",
   "execution_count": 129,
   "metadata": {},
   "outputs": [],
   "source": [
    "def plot_wage_rental(ax): \n",
    "    x_w = np.linspace(0, 1/w_value, 10)\n",
    "    y_r_f = lambda x: -1 * w_value / r_value * x + 1 / r_value\n",
    "    y_r = y_r_f(x_w)\n",
    "    ax.plot(x_w, y_r)"
   ]
  },
  {
   "cell_type": "code",
   "execution_count": 130,
   "metadata": {},
   "outputs": [],
   "source": [
    "def plot_cone(ax): \n",
    "    x_l = np.linspace(0, 1/w_value, 10)\n",
    "    y_l = np.linspace(0, 1/w_value, 10)\n",
    "    x_k = x_l * k_l_x_v\n",
    "    y_k = y_l * k_l_y_v\n",
    "    ax.plot(x_l, x_k)\n",
    "    ax.plot(y_l, y_k)"
   ]
  },
  {
   "cell_type": "code",
   "execution_count": 169,
   "metadata": {},
   "outputs": [],
   "source": [
    "def plot_isocost(ax): \n",
    "    y_k = np.linspace(0.01, 2/r_value, 100)\n",
    "    y_l = qy_eq_iso_py_ly_func(w_value, r_value, L_v, K_v, y_k, alpha_v, beta_v, delta_v)\n",
    "    ax.plot(y_l, y_k)\n",
    "    x_k = np.linspace(0.01, 2/r_value, 100)\n",
    "    x_l = qx_eq_iso_px_lx_func(w_value, r_value, L_v, K_v, x_k, alpha_v, beta_v, delta_v)\n",
    "    ax.plot(x_l, x_k)"
   ]
  },
  {
   "cell_type": "code",
   "execution_count": 170,
   "metadata": {},
   "outputs": [
    {
     "data": {
      "image/png": "[encoded data removed]",
      "text/plain": [
       "<Figure size 640x480 with 1 Axes>"
      ]
     },
     "metadata": {},
     "output_type": "display_data"
    }
   ],
   "source": [
    "# generate 10 values between 0 and 1/w_value\n",
    "fig, ax = plt.subplots()\n",
    "# y labels start from 0\n",
    "ax.set_ylim(0, 2/w_value)\n",
    "# x labels start from 0\n",
    "ax.set_xlim(0, 2/r_value)\n",
    "plot_wage_rental(ax)\n",
    "plot_cone(ax)\n",
    "plot_isocost(ax)\n",
    "fig.show()"
   ]
  }
 ],
 "metadata": {
  "kernelspec": {
   "display_name": "Python 3 (ipykernel)",
   "language": "python",
   "name": "python3"
  },
  "language_info": {
   "codemirror_mode": {
    "name": "ipython",
    "version": 3
   },
   "file_extension": ".py",
   "mimetype": "text/x-python",
   "name": "python",
   "nbconvert_exporter": "python",
   "pygments_lexer": "ipython3",
   "version": "3.10.12"
  }
 },
 "nbformat": 4,
 "nbformat_minor": 2
}
